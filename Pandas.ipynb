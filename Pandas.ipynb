{
 "cells": [
  {
   "cell_type": "code",
   "execution_count": 1,
   "id": "8ec1a4e5",
   "metadata": {},
   "outputs": [
    {
     "name": "stdout",
     "output_type": "stream",
     "text": [
      "0     4\n",
      "1     8\n",
      "2    15\n",
      "3    16\n",
      "4    23\n",
      "5    42\n",
      "dtype: int64\n"
     ]
    }
   ],
   "source": [
    "#Ans1.)\n",
    "\n",
    "import pandas as pd\n",
    "\n",
    "# Create a Pandas Series\n",
    "series_q1 = pd.Series([4, 8, 15, 16, 23, 42])\n",
    "\n",
    "# Print the series\n",
    "print(series_q1)\n"
   ]
  },
  {
   "cell_type": "code",
   "execution_count": null,
   "id": "a2364f20",
   "metadata": {},
   "outputs": [],
   "source": []
  },
  {
   "cell_type": "code",
   "execution_count": 2,
   "id": "7cdd5784",
   "metadata": {},
   "outputs": [
    {
     "name": "stdout",
     "output_type": "stream",
     "text": [
      "0     1\n",
      "1     2\n",
      "2     3\n",
      "3     4\n",
      "4     5\n",
      "5     6\n",
      "6     7\n",
      "7     8\n",
      "8     9\n",
      "9    10\n",
      "dtype: int64\n"
     ]
    }
   ],
   "source": [
    "#Ans2.) \n",
    "\n",
    "import pandas as pd\n",
    "\n",
    "# Create a list with 10 elements\n",
    "list_q2 = [1, 2, 3, 4, 5, 6, 7, 8, 9, 10]\n",
    "\n",
    "# Convert the list to a Pandas Series\n",
    "series_q2 = pd.Series(list_q2)\n",
    "\n",
    "# Print the series\n",
    "print(series_q2)\n"
   ]
  },
  {
   "cell_type": "code",
   "execution_count": null,
   "id": "075c74cf",
   "metadata": {},
   "outputs": [],
   "source": []
  },
  {
   "cell_type": "code",
   "execution_count": 3,
   "id": "ee17238a",
   "metadata": {},
   "outputs": [
    {
     "name": "stdout",
     "output_type": "stream",
     "text": [
      "     Name  Age  Gender\n",
      "0   Alice   25  Female\n",
      "1     Bob   30    Male\n",
      "2  Claire   27  Female\n"
     ]
    }
   ],
   "source": [
    "#Ans3.) \n",
    "\n",
    "import pandas as pd\n",
    "\n",
    "# Create a dictionary with the given data\n",
    "data = {\n",
    "    'Name': ['Alice', 'Bob', 'Claire'],\n",
    "    'Age': [25, 30, 27],\n",
    "    'Gender': ['Female', 'Male', 'Female']\n",
    "}\n",
    "\n",
    "# Create a Pandas DataFrame\n",
    "df = pd.DataFrame(data)\n",
    "\n",
    "# Print the DataFrame\n",
    "print(df)\n"
   ]
  },
  {
   "cell_type": "code",
   "execution_count": null,
   "id": "f04daba4",
   "metadata": {},
   "outputs": [],
   "source": []
  },
  {
   "cell_type": "markdown",
   "id": "7b4755b0",
   "metadata": {},
   "source": [
    "#Ans4.)\n",
    "\n",
    "DataFrame: A DataFrame is a two-dimensional labeled data structure in Pandas that consists of rows and columns. It is similar to a table in a relational database or a spreadsheet. Each column in a DataFrame can have a different data type.\n",
    "\n",
    "Series: A Series is a one-dimensional labeled array in Pandas. It is similar to a single column in a DataFrame. Series can hold data of any data type, including integers, floats, strings, and so on."
   ]
  },
  {
   "cell_type": "code",
   "execution_count": 4,
   "id": "e0ed88da",
   "metadata": {},
   "outputs": [
    {
     "name": "stdout",
     "output_type": "stream",
     "text": [
      "Series:\n",
      "0    10\n",
      "1    20\n",
      "2    30\n",
      "3    40\n",
      "4    50\n",
      "dtype: int64\n",
      "\n",
      "DataFrame:\n",
      "   Numbers\n",
      "0       10\n",
      "1       20\n",
      "2       30\n",
      "3       40\n",
      "4       50\n"
     ]
    }
   ],
   "source": [
    "import pandas as pd\n",
    "\n",
    "# Create a Series\n",
    "series_data = pd.Series([10, 20, 30, 40, 50])\n",
    "\n",
    "# Create a DataFrame\n",
    "df_data = pd.DataFrame({'Numbers': [10, 20, 30, 40, 50]})\n",
    "\n",
    "print(\"Series:\")\n",
    "print(series_data)\n",
    "\n",
    "print(\"\\nDataFrame:\")\n",
    "print(df_data)\n"
   ]
  },
  {
   "cell_type": "markdown",
   "id": "29bdb4f3",
   "metadata": {},
   "source": []
  },
  {
   "cell_type": "markdown",
   "id": "3d8329d4",
   "metadata": {},
   "source": [
    "#Ans5.)\n",
    "\n",
    "Common functions for DataFrame manipulation: Some common functions include head(), tail(), info(), describe(), drop(), fillna(), groupby(), merge(), pivot_table(), sort_values(), apply(), etc"
   ]
  },
  {
   "cell_type": "code",
   "execution_count": 5,
   "id": "ba2c6f17",
   "metadata": {},
   "outputs": [
    {
     "name": "stdout",
     "output_type": "stream",
     "text": [
      "     Name  Age  Gender\n",
      "0   Alice   25  Female\n",
      "1     Bob   30    Male\n",
      "2  Claire   27  Female\n"
     ]
    }
   ],
   "source": [
    "# Example of using the head() function to display the first few rows of a DataFrame\n",
    "print(df.head())\n"
   ]
  },
  {
   "cell_type": "code",
   "execution_count": null,
   "id": "ba7336a5",
   "metadata": {},
   "outputs": [],
   "source": []
  },
  {
   "cell_type": "markdown",
   "id": "d8275bd5",
   "metadata": {},
   "source": [
    "#Ans6.)\n",
    "\n",
    "Series: Series is mutable in nature, meaning you can modify its values after creation.\n",
    "\n",
    "DataFrame: DataFrame is also mutable, allowing modifications to its data, columns, and index.\n",
    "\n",
    "Panel: Panel is deprecated in the latest versions of Pandas. It used to be a mutable data structure but has been replaced by more efficient alternatives."
   ]
  },
  {
   "cell_type": "code",
   "execution_count": null,
   "id": "6979f416",
   "metadata": {},
   "outputs": [],
   "source": []
  },
  {
   "cell_type": "code",
   "execution_count": 6,
   "id": "a3c0eb7b",
   "metadata": {},
   "outputs": [
    {
     "name": "stdout",
     "output_type": "stream",
     "text": [
      "     Name  Age  Gender\n",
      "0   Alice   25  Female\n",
      "1     Bob   30    Male\n",
      "2  Claire   27  Female\n"
     ]
    }
   ],
   "source": [
    "#Ans7.)\n",
    "\n",
    "import pandas as pd\n",
    "\n",
    "# Create Series for each column\n",
    "names = pd.Series(['Alice', 'Bob', 'Claire'])\n",
    "ages = pd.Series([25, 30, 27])\n",
    "genders = pd.Series(['Female', 'Male', 'Female'])\n",
    "\n",
    "# Create DataFrame using multiple Series\n",
    "df_multiple_series = pd.DataFrame({'Name': names, 'Age': ages, 'Gender': genders})\n",
    "\n",
    "# Print the DataFrame\n",
    "print(df_multiple_series)\n"
   ]
  },
  {
   "cell_type": "code",
   "execution_count": null,
   "id": "b78d3e4d",
   "metadata": {},
   "outputs": [],
   "source": []
  }
 ],
 "metadata": {
  "kernelspec": {
   "display_name": "Python 3 (ipykernel)",
   "language": "python",
   "name": "python3"
  },
  "language_info": {
   "codemirror_mode": {
    "name": "ipython",
    "version": 3
   },
   "file_extension": ".py",
   "mimetype": "text/x-python",
   "name": "python",
   "nbconvert_exporter": "python",
   "pygments_lexer": "ipython3",
   "version": "3.11.4"
  }
 },
 "nbformat": 4,
 "nbformat_minor": 5
}
